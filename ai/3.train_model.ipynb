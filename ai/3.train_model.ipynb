{
 "cells": [
  {
   "cell_type": "code",
   "execution_count": 1,
   "id": "7e7d8617-36e6-440c-a580-8692e5717ec1",
   "metadata": {},
   "outputs": [],
   "source": [
    "import pandas as pd\n",
    "import xgboost as xgb\n",
    "from sklearn.model_selection import train_test_split\n",
    "from sklearn.metrics import mean_absolute_error"
   ]
  },
  {
   "cell_type": "code",
   "execution_count": 2,
   "id": "7e88bbec-7b18-4103-bdb8-8897a5c4e712",
   "metadata": {},
   "outputs": [],
   "source": [
    "# Load the training data\n",
    "X = pd.read_csv('train_data/training_features.csv')\n",
    "y = pd.read_csv('train_data/training_labels.csv')"
   ]
  },
  {
   "cell_type": "code",
   "execution_count": 21,
   "id": "88e97d4d-5549-4a8e-902e-2db99f214d32",
   "metadata": {},
   "outputs": [],
   "source": [
    "# Split the data into training and testing sets\n",
    "X_train, X_test, y_train, y_test = train_test_split(X, y, test_size=0.05, random_state=42)\n"
   ]
  },
  {
   "cell_type": "code",
   "execution_count": null,
   "id": "a04c8167-fd3e-443c-9745-18d39fb6862a",
   "metadata": {},
   "outputs": [
    {
     "name": "stderr",
     "output_type": "stream",
     "text": [
      "C:\\Python311\\Lib\\site-packages\\xgboost\\core.py:158: UserWarning: [01:01:47] WARNING: C:\\buildkite-agent\\builds\\buildkite-windows-cpu-autoscaling-group-i-06abd128ca6c1688d-1\\xgboost\\xgboost-ci-windows\\src\\learner.cc:740: \n",
      "Parameters: { \"predictor\" } are not used.\n",
      "\n",
      "  warnings.warn(smsg, UserWarning)\n"
     ]
    }
   ],
   "source": [
    "# Convert the data to DMatrix format for XGBoost\n",
    "dtrain = xgb.DMatrix(X_train, label=y_train)\n",
    "dtest = xgb.DMatrix(X_test, label=y_test)\n",
    "\n",
    "# Set up the parameters for the XGBoost model\n",
    "params = {\n",
    "    'objective': 'reg:squarederror',\n",
    "    # 'tree_method': 'gpu_hist',  # Use GPU for training\n",
    "    'device': 'cuda',\n",
    "    'predictor': 'gpu_predictor',\n",
    "    'eval_metric': 'mae',\n",
    "    'max_depth': 3,  # Increase depth of trees\n",
    "    'eta': 0.1,  # Learning rate\n",
    "    'subsample': 0.8,  # Subsample ratio of the training instances\n",
    "    'colsample_bytree': 0.8  # Subsample ratio of columns when constructing each tree\n",
    "}\n",
    "\n",
    "# Train the model\n",
    "num_rounds = 10000\n",
    "model = xgb.train(params, dtrain, num_rounds)"
   ]
  },
  {
   "cell_type": "code",
   "execution_count": null,
   "id": "e5b6857a-05e0-4bfb-bc86-aeeccae09c21",
   "metadata": {},
   "outputs": [],
   "source": [
    "# Save the model to disk\n",
    "model.save_model('eth_model.json')\n",
    "\n",
    "# Make predictions on the test set\n",
    "predictions = model.predict(dtest)\n",
    "\n",
    "# Calculate the mean absolute error\n",
    "mae = mean_absolute_error(y_test, predictions)\n",
    "print(f\"Mean Absolute Error: {mae}\")"
   ]
  },
  {
   "cell_type": "code",
   "execution_count": null,
   "id": "9c701258-e78a-48a5-9d69-d263e6ebd2d9",
   "metadata": {},
   "outputs": [],
   "source": []
  }
 ],
 "metadata": {
  "kernelspec": {
   "display_name": "Python 3 (ipykernel)",
   "language": "python",
   "name": "python3"
  },
  "language_info": {
   "codemirror_mode": {
    "name": "ipython",
    "version": 3
   },
   "file_extension": ".py",
   "mimetype": "text/x-python",
   "name": "python",
   "nbconvert_exporter": "python",
   "pygments_lexer": "ipython3",
   "version": "3.11.4"
  }
 },
 "nbformat": 4,
 "nbformat_minor": 5
}
