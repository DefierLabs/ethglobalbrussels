{
 "cells": [
  {
   "cell_type": "code",
   "execution_count": 1,
   "id": "c233898b-328a-4970-ad00-7e2d5631b70d",
   "metadata": {},
   "outputs": [],
   "source": [
    "import pandas as pd\n",
    "from web3 import Web3"
   ]
  },
  {
   "cell_type": "code",
   "execution_count": 2,
   "id": "b415ec42-ae24-4bfd-9319-8111aca53c20",
   "metadata": {},
   "outputs": [],
   "source": [
    "# Set up your Ethereum provider\n",
    "rpc_url = 'https://rpc.ankr.com/arbitrum'\n",
    "web3_provider = Web3(Web3.HTTPProvider(rpc_url))"
   ]
  },
  {
   "cell_type": "code",
   "execution_count": 3,
   "id": "7ad9f3af-1aa8-42cc-acf0-ab0e22f937d7",
   "metadata": {},
   "outputs": [],
   "source": [
    "connected = web3_provider.is_connected()"
   ]
  },
  {
   "cell_type": "code",
   "execution_count": 4,
   "id": "8bacbc7f-d6d3-40cd-bc9c-909ec12543af",
   "metadata": {},
   "outputs": [
    {
     "name": "stdout",
     "output_type": "stream",
     "text": [
      "Connected\n"
     ]
    }
   ],
   "source": [
    "# Check if the connection is successful\n",
    "if connected == True:\n",
    "    print(\"Connected\")"
   ]
  },
  {
   "cell_type": "code",
   "execution_count": 5,
   "id": "159ec12f-a002-470c-95e6-e4b50ebd6a6a",
   "metadata": {},
   "outputs": [],
   "source": [
    "# ABI of the Chainlink price feed contract\n",
    "abi = '''\n",
    "[\n",
    "    {\n",
    "        \"constant\": true,\n",
    "        \"inputs\": [],\n",
    "        \"name\": \"latestRoundData\",\n",
    "        \"outputs\": [\n",
    "            {\"name\": \"roundId\", \"type\": \"uint80\"},\n",
    "            {\"name\": \"answer\", \"type\": \"int256\"},\n",
    "            {\"name\": \"startedAt\", \"type\": \"uint256\"},\n",
    "            {\"name\": \"updatedAt\", \"type\": \"uint256\"},\n",
    "            {\"name\": \"answeredInRound\", \"type\": \"uint80\"}\n",
    "        ],\n",
    "        \"payable\": false,\n",
    "        \"stateMutability\": \"view\",\n",
    "        \"type\": \"function\"\n",
    "    },\n",
    "    {\n",
    "        \"constant\": true,\n",
    "        \"inputs\": [\n",
    "            {\"name\": \"_roundId\", \"type\": \"uint80\"}\n",
    "        ],\n",
    "        \"name\": \"getRoundData\",\n",
    "        \"outputs\": [\n",
    "            {\"name\": \"roundId\", \"type\": \"uint80\"},\n",
    "            {\"name\": \"answer\", \"type\": \"int256\"},\n",
    "            {\"name\": \"startedAt\", \"type\": \"uint256\"},\n",
    "            {\"name\": \"updatedAt\", \"type\": \"uint256\"},\n",
    "            {\"name\": \"answeredInRound\", \"type\": \"uint80\"}\n",
    "        ],\n",
    "        \"payable\": false,\n",
    "        \"stateMutability\": \"view\",\n",
    "        \"type\": \"function\"\n",
    "    }\n",
    "]\n",
    "'''\n"
   ]
  },
  {
   "cell_type": "code",
   "execution_count": 6,
   "id": "acada53d-fcdf-4573-8665-87ba6922f222",
   "metadata": {},
   "outputs": [],
   "source": [
    "# Chainlink ETH/USD price feed contract address\n",
    "contract_address = '0x639Fe6ab55C921f74e7fac1ee960C0B6293ba612'\n",
    "\n",
    "# Instantiate the contract\n",
    "contract = web3_provider.eth.contract(address=contract_address, abi=abi)"
   ]
  },
  {
   "cell_type": "code",
   "execution_count": 7,
   "id": "c2697d7d-902b-4706-b3f3-c37ccdc2cc90",
   "metadata": {},
   "outputs": [
    {
     "data": {
      "text/plain": [
       "18446744073710177366"
      ]
     },
     "execution_count": 7,
     "metadata": {},
     "output_type": "execute_result"
    }
   ],
   "source": [
    "# Get the latest round data to determine the latest round ID\n",
    "latest_data = contract.functions.latestRoundData().call()\n",
    "latest_round_id = latest_data[0]\n",
    "latest_round_id\n"
   ]
  },
  {
   "cell_type": "code",
   "execution_count": 8,
   "id": "30ce0400-da2e-4c76-96b7-51814d103200",
   "metadata": {},
   "outputs": [
    {
     "data": {
      "text/plain": [
       "[18446744073710177366,\n",
       " 314690000000,\n",
       " 1720909612,\n",
       " 1720909612,\n",
       " 18446744073710177366]"
      ]
     },
     "execution_count": 8,
     "metadata": {},
     "output_type": "execute_result"
    }
   ],
   "source": [
    "latest_data"
   ]
  },
  {
   "cell_type": "code",
   "execution_count": null,
   "id": "c5d1f9a5-c1d1-451a-ad1b-ec70220187f5",
   "metadata": {},
   "outputs": [],
   "source": [
    "# List to store historical data\n",
    "historical_data = []\n",
    "\n",
    "# Fetch historical data for each round\n",
    "for round_id in range(latest_round_id, 1, -1):\n",
    "    try:\n",
    "        round_data = contract.functions.getRoundData(round_id).call()\n",
    "        round_info = {\n",
    "            'roundId': round_data[0],\n",
    "            'price': round_data[1],\n",
    "            'startedAt': round_data[2],\n",
    "            'updatedAt': round_data[3],\n",
    "            'answeredInRound': round_data[4]\n",
    "        }\n",
    "        historical_data.append(round_info)\n",
    "    except Exception as e:\n",
    "        print(f\"Could not fetch data for round {round_id}: {e}\")\n",
    "        if e == 'no data':\n",
    "            break\n",
    "\n",
    "# Convert to DataFrame\n",
    "df = pd.DataFrame(historical_data)\n",
    "\n",
    "# Save to CSV\n",
    "df.to_csv('chainlink_historical_data.csv', index=False)\n",
    "\n",
    "print(\"Historical data saved to chainlink_historical_data.csv\")"
   ]
  },
  {
   "cell_type": "code",
   "execution_count": null,
   "id": "6cc42b9c-2385-4fce-8e75-2c4844be2b76",
   "metadata": {},
   "outputs": [],
   "source": []
  }
 ],
 "metadata": {
  "kernelspec": {
   "display_name": "Python 3 (ipykernel)",
   "language": "python",
   "name": "python3"
  },
  "language_info": {
   "codemirror_mode": {
    "name": "ipython",
    "version": 3
   },
   "file_extension": ".py",
   "mimetype": "text/x-python",
   "name": "python",
   "nbconvert_exporter": "python",
   "pygments_lexer": "ipython3",
   "version": "3.11.4"
  }
 },
 "nbformat": 4,
 "nbformat_minor": 5
}
