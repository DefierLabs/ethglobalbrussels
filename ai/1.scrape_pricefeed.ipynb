{
 "cells": [
  {
   "cell_type": "code",
   "execution_count": 1,
   "id": "c233898b-328a-4970-ad00-7e2d5631b70d",
   "metadata": {},
   "outputs": [],
   "source": [
    "import pandas as pd\n",
    "from web3 import Web3\n",
    "from multicall import Multicall, Call"
   ]
  },
  {
   "cell_type": "code",
   "execution_count": 2,
   "id": "b415ec42-ae24-4bfd-9319-8111aca53c20",
   "metadata": {},
   "outputs": [],
   "source": [
    "# Set up your Ethereum provider\n",
    "# rpc_url = 'https://arbitrum.llamarpc.com'\n",
    "rpc_url = 'https://rpc.ankr.com/arbitrum'\n",
    "\n",
    "web3_provider = Web3(Web3.HTTPProvider(rpc_url))"
   ]
  },
  {
   "cell_type": "code",
   "execution_count": 3,
   "id": "7ad9f3af-1aa8-42cc-acf0-ab0e22f937d7",
   "metadata": {},
   "outputs": [],
   "source": [
    "connected = web3_provider.is_connected()"
   ]
  },
  {
   "cell_type": "code",
   "execution_count": 4,
   "id": "8bacbc7f-d6d3-40cd-bc9c-909ec12543af",
   "metadata": {},
   "outputs": [
    {
     "name": "stdout",
     "output_type": "stream",
     "text": [
      "Connected\n"
     ]
    }
   ],
   "source": [
    "# Check if the connection is successful\n",
    "if connected == True:\n",
    "    print(\"Connected\")"
   ]
  },
  {
   "cell_type": "code",
   "execution_count": 5,
   "id": "159ec12f-a002-470c-95e6-e4b50ebd6a6a",
   "metadata": {},
   "outputs": [],
   "source": [
    "# ABI of the Chainlink price feed contract\n",
    "price_feed_abi = '''\n",
    "[\n",
    "    {\n",
    "        \"constant\": true,\n",
    "        \"inputs\": [],\n",
    "        \"name\": \"latestRoundData\",\n",
    "        \"outputs\": [\n",
    "            {\"name\": \"roundId\", \"type\": \"uint80\"},\n",
    "            {\"name\": \"answer\", \"type\": \"int256\"},\n",
    "            {\"name\": \"startedAt\", \"type\": \"uint256\"},\n",
    "            {\"name\": \"updatedAt\", \"type\": \"uint256\"},\n",
    "            {\"name\": \"answeredInRound\", \"type\": \"uint80\"}\n",
    "        ],\n",
    "        \"payable\": false,\n",
    "        \"stateMutability\": \"view\",\n",
    "        \"type\": \"function\"\n",
    "    },\n",
    "    {\n",
    "        \"constant\": true,\n",
    "        \"inputs\": [\n",
    "            {\"name\": \"_roundId\", \"type\": \"uint80\"}\n",
    "        ],\n",
    "        \"name\": \"getRoundData\",\n",
    "        \"outputs\": [\n",
    "            {\"name\": \"roundId\", \"type\": \"uint80\"},\n",
    "            {\"name\": \"answer\", \"type\": \"int256\"},\n",
    "            {\"name\": \"startedAt\", \"type\": \"uint256\"},\n",
    "            {\"name\": \"updatedAt\", \"type\": \"uint256\"},\n",
    "            {\"name\": \"answeredInRound\", \"type\": \"uint80\"}\n",
    "        ],\n",
    "        \"payable\": false,\n",
    "        \"stateMutability\": \"view\",\n",
    "        \"type\": \"function\"\n",
    "    }\n",
    "]\n",
    "'''\n"
   ]
  },
  {
   "cell_type": "code",
   "execution_count": 6,
   "id": "b800732e-5353-476d-a506-58e7e6364599",
   "metadata": {},
   "outputs": [],
   "source": [
    "# ABI of the Multicall3 contract\n",
    "multicall_abi = '''\n",
    "[\n",
    "    {\n",
    "        \"constant\": true,\n",
    "        \"inputs\": [\n",
    "            {\n",
    "                \"components\": [\n",
    "                    {\n",
    "                        \"name\": \"target\",\n",
    "                        \"type\": \"address\"\n",
    "                    },\n",
    "                    {\n",
    "                        \"name\": \"callData\",\n",
    "                        \"type\": \"bytes\"\n",
    "                    }\n",
    "                ],\n",
    "                \"name\": \"calls\",\n",
    "                \"type\": \"tuple[]\"\n",
    "            }\n",
    "        ],\n",
    "        \"name\": \"aggregate\",\n",
    "        \"outputs\": [\n",
    "            {\n",
    "                \"name\": \"blockNumber\",\n",
    "                \"type\": \"uint256\"\n",
    "            },\n",
    "            {\n",
    "                \"name\": \"returnData\",\n",
    "                \"type\": \"bytes[]\"\n",
    "            }\n",
    "        ],\n",
    "        \"payable\": false,\n",
    "        \"stateMutability\": \"view\",\n",
    "        \"type\": \"function\"\n",
    "    }\n",
    "]\n",
    "'''"
   ]
  },
  {
   "cell_type": "code",
   "execution_count": 7,
   "id": "fdd82f75-bf8a-4348-9b5b-90d8a0d0457b",
   "metadata": {},
   "outputs": [],
   "source": [
    "multicall_address = '0xcA11bde05977b3631167028862bE2a173976CA11'"
   ]
  },
  {
   "cell_type": "code",
   "execution_count": 8,
   "id": "acada53d-fcdf-4573-8665-87ba6922f222",
   "metadata": {},
   "outputs": [],
   "source": [
    "# Chainlink ETH/USD price feed contract address\n",
    "price_feed_address = '0x639Fe6ab55C921f74e7fac1ee960C0B6293ba612'"
   ]
  },
  {
   "cell_type": "code",
   "execution_count": 9,
   "id": "dcdb23ca-49c4-4757-870c-fea61ab3152c",
   "metadata": {},
   "outputs": [],
   "source": [
    "# Instantiate the contracts\n",
    "multicall_contract = web3_provider.eth.contract(address=multicall_address, abi=multicall_abi)\n",
    "price_feed_contract = web3_provider.eth.contract(address=price_feed_address, abi=price_feed_abi)"
   ]
  },
  {
   "cell_type": "code",
   "execution_count": 10,
   "id": "c2697d7d-902b-4706-b3f3-c37ccdc2cc90",
   "metadata": {},
   "outputs": [
    {
     "data": {
      "text/plain": [
       "18446744073710177386"
      ]
     },
     "execution_count": 10,
     "metadata": {},
     "output_type": "execute_result"
    }
   ],
   "source": [
    "# Get the latest round data to determine the latest round ID\n",
    "latest_data = price_feed_contract.functions.latestRoundData().call()\n",
    "latest_round_id = latest_data[0]\n",
    "latest_round_id\n"
   ]
  },
  {
   "cell_type": "code",
   "execution_count": 11,
   "id": "30ce0400-da2e-4c76-96b7-51814d103200",
   "metadata": {},
   "outputs": [
    {
     "data": {
      "text/plain": [
       "[18446744073710177386,\n",
       " 318060419999,\n",
       " 1720911053,\n",
       " 1720911053,\n",
       " 18446744073710177386]"
      ]
     },
     "execution_count": 11,
     "metadata": {},
     "output_type": "execute_result"
    }
   ],
   "source": [
    "latest_data"
   ]
  },
  {
   "cell_type": "code",
   "execution_count": 12,
   "id": "903e2d9f-a91a-43e6-9cf2-010832acec5a",
   "metadata": {},
   "outputs": [],
   "source": [
    "# Function to create the calldata for getRoundData\n",
    "def create_calldata(round_id):\n",
    "    return price_feed_contract.encodeABI(fn_name='getRoundData', args=[round_id])\n"
   ]
  },
  {
   "cell_type": "code",
   "execution_count": null,
   "id": "c5d1f9a5-c1d1-451a-ad1b-ec70220187f5",
   "metadata": {},
   "outputs": [],
   "source": [
    "\n",
    "# List to store historical data\n",
    "historical_data = []\n",
    "\n",
    "# Batch size for multicall\n",
    "batch_size = 500\n",
    "\n",
    "# Fetch historical data in batches, starting from the latest round\n",
    "for start_round_id in range(latest_round_id, 0, -batch_size):\n",
    "    calls = []\n",
    "    for round_id in range(start_round_id, max(start_round_id - batch_size, 0), -1):\n",
    "        calldata = create_calldata(round_id)\n",
    "        calls.append((price_feed_address, calldata))\n",
    "    \n",
    "    # Prepare the multicall input\n",
    "    multicall_input = {\n",
    "        'calls': [(call[0], call[1]) for call in calls]\n",
    "    }\n",
    "\n",
    "    # Perform the multicall\n",
    "    try:\n",
    "        result = multicall_contract.functions.aggregate(multicall_input['calls']).call()\n",
    "        block_number, return_data = result[0], result[1]\n",
    "        \n",
    "        for data in return_data:\n",
    "            try:\n",
    "                decoded_data = decode_abi(['uint80', 'int256', 'uint256', 'uint256', 'uint80'], data)\n",
    "                round_info = {\n",
    "                    'roundId': decoded_data[0],\n",
    "                    'price': Web3.fromWei(decoded_data[1], 'ether'),\n",
    "                    'startedAt': decoded_data[2],\n",
    "                    'updatedAt': decoded_data[3],\n",
    "                    'answeredInRound': decoded_data[4]\n",
    "                }\n",
    "                historical_data.append(round_info)\n",
    "            except Exception as e:\n",
    "                if 'no data' in str(e):\n",
    "                    print(f\"No data for round {round_id}, exiting.\")\n",
    "                    break\n",
    "    except Exception as e:\n",
    "        print(f\"Multicall failed for rounds {start_round_id} to {max(start_round_id - batch_size + 1, 0)}: {e}\")\n",
    "        break\n",
    "\n",
    "# Convert to DataFrame\n",
    "df = pd.DataFrame(historical_data)\n",
    "\n",
    "# Save to CSV\n",
    "df.to_csv('chainlink_historical_data.csv', index=False)\n",
    "\n",
    "print(\"Historical data saved to chainlink_historical_data.csv\")"
   ]
  },
  {
   "cell_type": "code",
   "execution_count": null,
   "id": "6cc42b9c-2385-4fce-8e75-2c4844be2b76",
   "metadata": {},
   "outputs": [],
   "source": []
  },
  {
   "cell_type": "code",
   "execution_count": null,
   "id": "2798166f-a6f9-409d-8450-1049d50b230c",
   "metadata": {},
   "outputs": [],
   "source": []
  }
 ],
 "metadata": {
  "kernelspec": {
   "display_name": "Python 3 (ipykernel)",
   "language": "python",
   "name": "python3"
  },
  "language_info": {
   "codemirror_mode": {
    "name": "ipython",
    "version": 3
   },
   "file_extension": ".py",
   "mimetype": "text/x-python",
   "name": "python",
   "nbconvert_exporter": "python",
   "pygments_lexer": "ipython3",
   "version": "3.11.4"
  }
 },
 "nbformat": 4,
 "nbformat_minor": 5
}
